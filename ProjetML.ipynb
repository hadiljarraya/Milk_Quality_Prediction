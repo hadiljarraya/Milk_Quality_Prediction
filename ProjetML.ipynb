{
  "nbformat": 4,
  "nbformat_minor": 0,
  "metadata": {
    "colab": {
      "provenance": []
    },
    "kernelspec": {
      "name": "python3",
      "display_name": "Python 3"
    },
    "language_info": {
      "name": "python"
    }
  },
  "cells": [
    {
      "cell_type": "code",
      "source": [
        "import pandas as pd\n",
        "import matplotlib.pyplot as plt\n",
        "import seaborn as sns\n",
        "import sklearn \n"
      ],
      "metadata": {
        "id": "B0UnM9hGm6Ak"
      },
      "execution_count": null,
      "outputs": []
    },
    {
      "cell_type": "code",
      "execution_count": null,
      "metadata": {
        "colab": {
          "base_uri": "https://localhost:8080/",
          "height": 318
        },
        "id": "zgzZxNyyWI-v",
        "outputId": "0dcbe3ec-dd47-4623-d9eb-bb1261ba4673"
      },
      "outputs": [
        {
          "output_type": "stream",
          "name": "stdout",
          "text": [
            "(1059, 7)\n"
          ]
        },
        {
          "output_type": "execute_result",
          "data": {
            "text/plain": [
              "        Temprature        Taste         Odor         Fat     Turbidity  \\\n",
              "count  1059.000000  1059.000000  1059.000000  1059.000000  1059.000000   \n",
              "mean     44.226629     0.546742     0.432483     0.671388     0.491029   \n",
              "std      10.098364     0.498046     0.495655     0.469930     0.500156   \n",
              "min      34.000000     0.000000     0.000000     0.000000     0.000000   \n",
              "25%      38.000000     0.000000     0.000000     0.000000     0.000000   \n",
              "50%      41.000000     1.000000     0.000000     1.000000     0.000000   \n",
              "75%      45.000000     1.000000     1.000000     1.000000     1.000000   \n",
              "max      90.000000     1.000000     1.000000     1.000000     1.000000   \n",
              "\n",
              "            Colour  \n",
              "count  1059.000000  \n",
              "mean    251.840415  \n",
              "std       4.307424  \n",
              "min     240.000000  \n",
              "25%     250.000000  \n",
              "50%     255.000000  \n",
              "75%     255.000000  \n",
              "max     255.000000  "
            ],
            "text/html": [
              "\n",
              "  <div id=\"df-833ee2b0-762f-453b-a7ba-51c4ef8efbdf\">\n",
              "    <div class=\"colab-df-container\">\n",
              "      <div>\n",
              "<style scoped>\n",
              "    .dataframe tbody tr th:only-of-type {\n",
              "        vertical-align: middle;\n",
              "    }\n",
              "\n",
              "    .dataframe tbody tr th {\n",
              "        vertical-align: top;\n",
              "    }\n",
              "\n",
              "    .dataframe thead th {\n",
              "        text-align: right;\n",
              "    }\n",
              "</style>\n",
              "<table border=\"1\" class=\"dataframe\">\n",
              "  <thead>\n",
              "    <tr style=\"text-align: right;\">\n",
              "      <th></th>\n",
              "      <th>Temprature</th>\n",
              "      <th>Taste</th>\n",
              "      <th>Odor</th>\n",
              "      <th>Fat</th>\n",
              "      <th>Turbidity</th>\n",
              "      <th>Colour</th>\n",
              "    </tr>\n",
              "  </thead>\n",
              "  <tbody>\n",
              "    <tr>\n",
              "      <th>count</th>\n",
              "      <td>1059.000000</td>\n",
              "      <td>1059.000000</td>\n",
              "      <td>1059.000000</td>\n",
              "      <td>1059.000000</td>\n",
              "      <td>1059.000000</td>\n",
              "      <td>1059.000000</td>\n",
              "    </tr>\n",
              "    <tr>\n",
              "      <th>mean</th>\n",
              "      <td>44.226629</td>\n",
              "      <td>0.546742</td>\n",
              "      <td>0.432483</td>\n",
              "      <td>0.671388</td>\n",
              "      <td>0.491029</td>\n",
              "      <td>251.840415</td>\n",
              "    </tr>\n",
              "    <tr>\n",
              "      <th>std</th>\n",
              "      <td>10.098364</td>\n",
              "      <td>0.498046</td>\n",
              "      <td>0.495655</td>\n",
              "      <td>0.469930</td>\n",
              "      <td>0.500156</td>\n",
              "      <td>4.307424</td>\n",
              "    </tr>\n",
              "    <tr>\n",
              "      <th>min</th>\n",
              "      <td>34.000000</td>\n",
              "      <td>0.000000</td>\n",
              "      <td>0.000000</td>\n",
              "      <td>0.000000</td>\n",
              "      <td>0.000000</td>\n",
              "      <td>240.000000</td>\n",
              "    </tr>\n",
              "    <tr>\n",
              "      <th>25%</th>\n",
              "      <td>38.000000</td>\n",
              "      <td>0.000000</td>\n",
              "      <td>0.000000</td>\n",
              "      <td>0.000000</td>\n",
              "      <td>0.000000</td>\n",
              "      <td>250.000000</td>\n",
              "    </tr>\n",
              "    <tr>\n",
              "      <th>50%</th>\n",
              "      <td>41.000000</td>\n",
              "      <td>1.000000</td>\n",
              "      <td>0.000000</td>\n",
              "      <td>1.000000</td>\n",
              "      <td>0.000000</td>\n",
              "      <td>255.000000</td>\n",
              "    </tr>\n",
              "    <tr>\n",
              "      <th>75%</th>\n",
              "      <td>45.000000</td>\n",
              "      <td>1.000000</td>\n",
              "      <td>1.000000</td>\n",
              "      <td>1.000000</td>\n",
              "      <td>1.000000</td>\n",
              "      <td>255.000000</td>\n",
              "    </tr>\n",
              "    <tr>\n",
              "      <th>max</th>\n",
              "      <td>90.000000</td>\n",
              "      <td>1.000000</td>\n",
              "      <td>1.000000</td>\n",
              "      <td>1.000000</td>\n",
              "      <td>1.000000</td>\n",
              "      <td>255.000000</td>\n",
              "    </tr>\n",
              "  </tbody>\n",
              "</table>\n",
              "</div>\n",
              "      <button class=\"colab-df-convert\" onclick=\"convertToInteractive('df-833ee2b0-762f-453b-a7ba-51c4ef8efbdf')\"\n",
              "              title=\"Convert this dataframe to an interactive table.\"\n",
              "              style=\"display:none;\">\n",
              "        \n",
              "  <svg xmlns=\"http://www.w3.org/2000/svg\" height=\"24px\"viewBox=\"0 0 24 24\"\n",
              "       width=\"24px\">\n",
              "    <path d=\"M0 0h24v24H0V0z\" fill=\"none\"/>\n",
              "    <path d=\"M18.56 5.44l.94 2.06.94-2.06 2.06-.94-2.06-.94-.94-2.06-.94 2.06-2.06.94zm-11 1L8.5 8.5l.94-2.06 2.06-.94-2.06-.94L8.5 2.5l-.94 2.06-2.06.94zm10 10l.94 2.06.94-2.06 2.06-.94-2.06-.94-.94-2.06-.94 2.06-2.06.94z\"/><path d=\"M17.41 7.96l-1.37-1.37c-.4-.4-.92-.59-1.43-.59-.52 0-1.04.2-1.43.59L10.3 9.45l-7.72 7.72c-.78.78-.78 2.05 0 2.83L4 21.41c.39.39.9.59 1.41.59.51 0 1.02-.2 1.41-.59l7.78-7.78 2.81-2.81c.8-.78.8-2.07 0-2.86zM5.41 20L4 18.59l7.72-7.72 1.47 1.35L5.41 20z\"/>\n",
              "  </svg>\n",
              "      </button>\n",
              "      \n",
              "  <style>\n",
              "    .colab-df-container {\n",
              "      display:flex;\n",
              "      flex-wrap:wrap;\n",
              "      gap: 12px;\n",
              "    }\n",
              "\n",
              "    .colab-df-convert {\n",
              "      background-color: #E8F0FE;\n",
              "      border: none;\n",
              "      border-radius: 50%;\n",
              "      cursor: pointer;\n",
              "      display: none;\n",
              "      fill: #1967D2;\n",
              "      height: 32px;\n",
              "      padding: 0 0 0 0;\n",
              "      width: 32px;\n",
              "    }\n",
              "\n",
              "    .colab-df-convert:hover {\n",
              "      background-color: #E2EBFA;\n",
              "      box-shadow: 0px 1px 2px rgba(60, 64, 67, 0.3), 0px 1px 3px 1px rgba(60, 64, 67, 0.15);\n",
              "      fill: #174EA6;\n",
              "    }\n",
              "\n",
              "    [theme=dark] .colab-df-convert {\n",
              "      background-color: #3B4455;\n",
              "      fill: #D2E3FC;\n",
              "    }\n",
              "\n",
              "    [theme=dark] .colab-df-convert:hover {\n",
              "      background-color: #434B5C;\n",
              "      box-shadow: 0px 1px 3px 1px rgba(0, 0, 0, 0.15);\n",
              "      filter: drop-shadow(0px 1px 2px rgba(0, 0, 0, 0.3));\n",
              "      fill: #FFFFFF;\n",
              "    }\n",
              "  </style>\n",
              "\n",
              "      <script>\n",
              "        const buttonEl =\n",
              "          document.querySelector('#df-833ee2b0-762f-453b-a7ba-51c4ef8efbdf button.colab-df-convert');\n",
              "        buttonEl.style.display =\n",
              "          google.colab.kernel.accessAllowed ? 'block' : 'none';\n",
              "\n",
              "        async function convertToInteractive(key) {\n",
              "          const element = document.querySelector('#df-833ee2b0-762f-453b-a7ba-51c4ef8efbdf');\n",
              "          const dataTable =\n",
              "            await google.colab.kernel.invokeFunction('convertToInteractive',\n",
              "                                                     [key], {});\n",
              "          if (!dataTable) return;\n",
              "\n",
              "          const docLinkHtml = 'Like what you see? Visit the ' +\n",
              "            '<a target=\"_blank\" href=https://colab.research.google.com/notebooks/data_table.ipynb>data table notebook</a>'\n",
              "            + ' to learn more about interactive tables.';\n",
              "          element.innerHTML = '';\n",
              "          dataTable['output_type'] = 'display_data';\n",
              "          await google.colab.output.renderOutput(dataTable, element);\n",
              "          const docLink = document.createElement('div');\n",
              "          docLink.innerHTML = docLinkHtml;\n",
              "          element.appendChild(docLink);\n",
              "        }\n",
              "      </script>\n",
              "    </div>\n",
              "  </div>\n",
              "  "
            ]
          },
          "metadata": {},
          "execution_count": 3
        }
      ],
      "source": [
        "milk = pd.read_csv('milknew.csv',index_col=[0])\n",
        "#milk.head()\n",
        "print(milk.shape)\n",
        "milk.describe()"
      ]
    },
    {
      "cell_type": "code",
      "source": [
        "milk['Grade'].replace({'high':2,'medium':1,'low':0},inplace=True) "
      ],
      "metadata": {
        "id": "ui2lGTaC-lvl"
      },
      "execution_count": null,
      "outputs": []
    },
    {
      "cell_type": "code",
      "source": [
        "milk.head()"
      ],
      "metadata": {
        "colab": {
          "base_uri": "https://localhost:8080/",
          "height": 237
        },
        "id": "h9sMbcYx-uPb",
        "outputId": "fb60706f-b60f-44e1-8e42-d886a7e96cb6"
      },
      "execution_count": null,
      "outputs": [
        {
          "output_type": "execute_result",
          "data": {
            "text/plain": [
              "     Temprature  Taste  Odor  Fat   Turbidity  Colour  Grade\n",
              "pH                                                          \n",
              "6.6          35      1     0     1          0     254      2\n",
              "6.6          36      0     1     0          1     253      2\n",
              "8.5          70      1     1     1          1     246      0\n",
              "9.5          34      1     1     0          1     255      0\n",
              "6.6          37      0     0     0          0     255      1"
            ],
            "text/html": [
              "\n",
              "  <div id=\"df-3c1dabcc-8bef-448b-ab02-17477966cb8a\">\n",
              "    <div class=\"colab-df-container\">\n",
              "      <div>\n",
              "<style scoped>\n",
              "    .dataframe tbody tr th:only-of-type {\n",
              "        vertical-align: middle;\n",
              "    }\n",
              "\n",
              "    .dataframe tbody tr th {\n",
              "        vertical-align: top;\n",
              "    }\n",
              "\n",
              "    .dataframe thead th {\n",
              "        text-align: right;\n",
              "    }\n",
              "</style>\n",
              "<table border=\"1\" class=\"dataframe\">\n",
              "  <thead>\n",
              "    <tr style=\"text-align: right;\">\n",
              "      <th></th>\n",
              "      <th>Temprature</th>\n",
              "      <th>Taste</th>\n",
              "      <th>Odor</th>\n",
              "      <th>Fat</th>\n",
              "      <th>Turbidity</th>\n",
              "      <th>Colour</th>\n",
              "      <th>Grade</th>\n",
              "    </tr>\n",
              "    <tr>\n",
              "      <th>pH</th>\n",
              "      <th></th>\n",
              "      <th></th>\n",
              "      <th></th>\n",
              "      <th></th>\n",
              "      <th></th>\n",
              "      <th></th>\n",
              "      <th></th>\n",
              "    </tr>\n",
              "  </thead>\n",
              "  <tbody>\n",
              "    <tr>\n",
              "      <th>6.6</th>\n",
              "      <td>35</td>\n",
              "      <td>1</td>\n",
              "      <td>0</td>\n",
              "      <td>1</td>\n",
              "      <td>0</td>\n",
              "      <td>254</td>\n",
              "      <td>2</td>\n",
              "    </tr>\n",
              "    <tr>\n",
              "      <th>6.6</th>\n",
              "      <td>36</td>\n",
              "      <td>0</td>\n",
              "      <td>1</td>\n",
              "      <td>0</td>\n",
              "      <td>1</td>\n",
              "      <td>253</td>\n",
              "      <td>2</td>\n",
              "    </tr>\n",
              "    <tr>\n",
              "      <th>8.5</th>\n",
              "      <td>70</td>\n",
              "      <td>1</td>\n",
              "      <td>1</td>\n",
              "      <td>1</td>\n",
              "      <td>1</td>\n",
              "      <td>246</td>\n",
              "      <td>0</td>\n",
              "    </tr>\n",
              "    <tr>\n",
              "      <th>9.5</th>\n",
              "      <td>34</td>\n",
              "      <td>1</td>\n",
              "      <td>1</td>\n",
              "      <td>0</td>\n",
              "      <td>1</td>\n",
              "      <td>255</td>\n",
              "      <td>0</td>\n",
              "    </tr>\n",
              "    <tr>\n",
              "      <th>6.6</th>\n",
              "      <td>37</td>\n",
              "      <td>0</td>\n",
              "      <td>0</td>\n",
              "      <td>0</td>\n",
              "      <td>0</td>\n",
              "      <td>255</td>\n",
              "      <td>1</td>\n",
              "    </tr>\n",
              "  </tbody>\n",
              "</table>\n",
              "</div>\n",
              "      <button class=\"colab-df-convert\" onclick=\"convertToInteractive('df-3c1dabcc-8bef-448b-ab02-17477966cb8a')\"\n",
              "              title=\"Convert this dataframe to an interactive table.\"\n",
              "              style=\"display:none;\">\n",
              "        \n",
              "  <svg xmlns=\"http://www.w3.org/2000/svg\" height=\"24px\"viewBox=\"0 0 24 24\"\n",
              "       width=\"24px\">\n",
              "    <path d=\"M0 0h24v24H0V0z\" fill=\"none\"/>\n",
              "    <path d=\"M18.56 5.44l.94 2.06.94-2.06 2.06-.94-2.06-.94-.94-2.06-.94 2.06-2.06.94zm-11 1L8.5 8.5l.94-2.06 2.06-.94-2.06-.94L8.5 2.5l-.94 2.06-2.06.94zm10 10l.94 2.06.94-2.06 2.06-.94-2.06-.94-.94-2.06-.94 2.06-2.06.94z\"/><path d=\"M17.41 7.96l-1.37-1.37c-.4-.4-.92-.59-1.43-.59-.52 0-1.04.2-1.43.59L10.3 9.45l-7.72 7.72c-.78.78-.78 2.05 0 2.83L4 21.41c.39.39.9.59 1.41.59.51 0 1.02-.2 1.41-.59l7.78-7.78 2.81-2.81c.8-.78.8-2.07 0-2.86zM5.41 20L4 18.59l7.72-7.72 1.47 1.35L5.41 20z\"/>\n",
              "  </svg>\n",
              "      </button>\n",
              "      \n",
              "  <style>\n",
              "    .colab-df-container {\n",
              "      display:flex;\n",
              "      flex-wrap:wrap;\n",
              "      gap: 12px;\n",
              "    }\n",
              "\n",
              "    .colab-df-convert {\n",
              "      background-color: #E8F0FE;\n",
              "      border: none;\n",
              "      border-radius: 50%;\n",
              "      cursor: pointer;\n",
              "      display: none;\n",
              "      fill: #1967D2;\n",
              "      height: 32px;\n",
              "      padding: 0 0 0 0;\n",
              "      width: 32px;\n",
              "    }\n",
              "\n",
              "    .colab-df-convert:hover {\n",
              "      background-color: #E2EBFA;\n",
              "      box-shadow: 0px 1px 2px rgba(60, 64, 67, 0.3), 0px 1px 3px 1px rgba(60, 64, 67, 0.15);\n",
              "      fill: #174EA6;\n",
              "    }\n",
              "\n",
              "    [theme=dark] .colab-df-convert {\n",
              "      background-color: #3B4455;\n",
              "      fill: #D2E3FC;\n",
              "    }\n",
              "\n",
              "    [theme=dark] .colab-df-convert:hover {\n",
              "      background-color: #434B5C;\n",
              "      box-shadow: 0px 1px 3px 1px rgba(0, 0, 0, 0.15);\n",
              "      filter: drop-shadow(0px 1px 2px rgba(0, 0, 0, 0.3));\n",
              "      fill: #FFFFFF;\n",
              "    }\n",
              "  </style>\n",
              "\n",
              "      <script>\n",
              "        const buttonEl =\n",
              "          document.querySelector('#df-3c1dabcc-8bef-448b-ab02-17477966cb8a button.colab-df-convert');\n",
              "        buttonEl.style.display =\n",
              "          google.colab.kernel.accessAllowed ? 'block' : 'none';\n",
              "\n",
              "        async function convertToInteractive(key) {\n",
              "          const element = document.querySelector('#df-3c1dabcc-8bef-448b-ab02-17477966cb8a');\n",
              "          const dataTable =\n",
              "            await google.colab.kernel.invokeFunction('convertToInteractive',\n",
              "                                                     [key], {});\n",
              "          if (!dataTable) return;\n",
              "\n",
              "          const docLinkHtml = 'Like what you see? Visit the ' +\n",
              "            '<a target=\"_blank\" href=https://colab.research.google.com/notebooks/data_table.ipynb>data table notebook</a>'\n",
              "            + ' to learn more about interactive tables.';\n",
              "          element.innerHTML = '';\n",
              "          dataTable['output_type'] = 'display_data';\n",
              "          await google.colab.output.renderOutput(dataTable, element);\n",
              "          const docLink = document.createElement('div');\n",
              "          docLink.innerHTML = docLinkHtml;\n",
              "          element.appendChild(docLink);\n",
              "        }\n",
              "      </script>\n",
              "    </div>\n",
              "  </div>\n",
              "  "
            ]
          },
          "metadata": {},
          "execution_count": 5
        }
      ]
    },
    {
      "cell_type": "code",
      "source": [
        "sns.distplot(milk['Colour'],kde=False)"
      ],
      "metadata": {
        "colab": {
          "base_uri": "https://localhost:8080/",
          "height": 353
        },
        "id": "AZZgSjxhyNZZ",
        "outputId": "9bf99144-fca3-4f2d-da9f-e4133d63102b"
      },
      "execution_count": null,
      "outputs": [
        {
          "output_type": "stream",
          "name": "stderr",
          "text": [
            "/usr/local/lib/python3.8/dist-packages/seaborn/distributions.py:2619: FutureWarning: `distplot` is a deprecated function and will be removed in a future version. Please adapt your code to use either `displot` (a figure-level function with similar flexibility) or `histplot` (an axes-level function for histograms).\n",
            "  warnings.warn(msg, FutureWarning)\n"
          ]
        },
        {
          "output_type": "execute_result",
          "data": {
            "text/plain": [
              "<matplotlib.axes._subplots.AxesSubplot at 0x7f14605abc10>"
            ]
          },
          "metadata": {},
          "execution_count": 6
        },
        {
          "output_type": "display_data",
          "data": {
            "text/plain": [
              "<Figure size 432x288 with 1 Axes>"
            ],
            "image/png": "[encoded data removed]"
          },
          "metadata": {
            "needs_background": "light"
          }
        }
      ]
    },
    {
      "cell_type": "code",
      "source": [
        "sns.distplot(milk['Colour'],hist=False)"
      ],
      "metadata": {
        "colab": {
          "base_uri": "https://localhost:8080/",
          "height": 353
        },
        "id": "ExiUiA_nzPSv",
        "outputId": "e767fac7-fc86-425e-e395-df3f9922ef86"
      },
      "execution_count": null,
      "outputs": [
        {
          "output_type": "stream",
          "name": "stderr",
          "text": [
            "/usr/local/lib/python3.8/dist-packages/seaborn/distributions.py:2619: FutureWarning: `distplot` is a deprecated function and will be removed in a future version. Please adapt your code to use either `displot` (a figure-level function with similar flexibility) or `kdeplot` (an axes-level function for kernel density plots).\n",
            "  warnings.warn(msg, FutureWarning)\n"
          ]
        },
        {
          "output_type": "execute_result",
          "data": {
            "text/plain": [
              "<matplotlib.axes._subplots.AxesSubplot at 0x7f14604bafa0>"
            ]
          },
          "metadata": {},
          "execution_count": 7
        },
        {
          "output_type": "display_data",
          "data": {
            "text/plain": [
              "<Figure size 432x288 with 1 Axes>"
            ],
            "image/png": "[encoded data removed]"
          },
          "metadata": {
            "needs_background": "light"
          }
        }
      ]
    },
    {
      "cell_type": "code",
      "source": [
        "milk.hist(figsize =(15,10))\n",
        "plt.show()"
      ],
      "metadata": {
        "colab": {
          "base_uri": "https://localhost:8080/",
          "height": 607
        },
        "id": "_qqrha7Bt0oM",
        "outputId": "3d197882-a04f-468f-f1e2-80ee2197da64"
      },
      "execution_count": null,
      "outputs": [
        {
          "output_type": "display_data",
          "data": {
            "text/plain": [
              "<Figure size 1080x720 with 9 Axes>"
            ],
            "image/png": "[encoded data removed]"
          },
          "metadata": {
            "needs_background": "light"
          }
        }
      ]
    },
    {
      "cell_type": "code",
      "source": [
        "sns.pairplot(milk,height=5)"
      ],
      "metadata": {
        "id": "Z6riZGI1t_zE"
      },
      "execution_count": null,
      "outputs": []
    },
    {
      "cell_type": "code",
      "source": [
        "sns.heatmap(milk.corr(),annot = True,cmap='terrain')\n",
        "fig = plt.gcf()\n",
        "fig.set_size_inches(10,7)\n",
        "plt.show()"
      ],
      "metadata": {
        "id": "zf9r4Pd_l2kN",
        "colab": {
          "base_uri": "https://localhost:8080/",
          "height": 479
        },
        "outputId": "4ab628ef-3a4c-41e1-ce44-0161dffc2707"
      },
      "execution_count": null,
      "outputs": [
        {
          "output_type": "display_data",
          "data": {
            "text/plain": [
              "<Figure size 720x504 with 2 Axes>"
            ],
            "image/png": "[encoded data removed]"
          },
          "metadata": {
            "needs_background": "light"
          }
        }
      ]
    },
    {
      "cell_type": "code",
      "source": [
        "milk.boxplot(figsize = (15,6))\n",
        "plt.show()"
      ],
      "metadata": {
        "id": "StyVksW_l-xJ",
        "colab": {
          "base_uri": "https://localhost:8080/",
          "height": 374
        },
        "outputId": "6d970b35-693e-4f10-e3af-c0a7cb0c2145"
      },
      "execution_count": null,
      "outputs": [
        {
          "output_type": "display_data",
          "data": {
            "text/plain": [
              "<Figure size 1080x432 with 1 Axes>"
            ],
            "image/png": "[encoded data removed]"
          },
          "metadata": {
            "needs_background": "light"
          }
        }
      ]
    },
    {
      "cell_type": "markdown",
      "source": [
        "On remarque que la Colour, pH et la Temperature admette des aberrantes. \n",
        " \n"
      ],
      "metadata": {
        "id": "eD5DKJdJMOWT"
      }
    },
    {
      "cell_type": "markdown",
      "source": [
        "\n",
        "**Toutes les caractéristiques sont importantes pour notre prédiction, donc nous ne laisserons aucune caractéristique dans notre base de données.**\n",
        "\n"
      ],
      "metadata": {
        "id": "Id5ebUqzmgSd"
      }
    },
    {
      "cell_type": "code",
      "source": [
        "milk['Grade'].value_counts()"
      ],
      "metadata": {
        "id": "r3GGS3Rrm7_y",
        "colab": {
          "base_uri": "https://localhost:8080/"
        },
        "outputId": "4a55b608-00f1-498e-a4c9-e02ced644c63"
      },
      "execution_count": null,
      "outputs": [
        {
          "output_type": "execute_result",
          "data": {
            "text/plain": [
              "0    429\n",
              "1    374\n",
              "2    256\n",
              "Name: Grade, dtype: int64"
            ]
          },
          "metadata": {},
          "execution_count": 12
        }
      ]
    },
    {
      "cell_type": "code",
      "source": [
        "sns.countplot(milk['Grade'])\n",
        "plt.show()"
      ],
      "metadata": {
        "id": "BbzL6zffnCzS",
        "colab": {
          "base_uri": "https://localhost:8080/",
          "height": 335
        },
        "outputId": "b4db3562-4a70-4186-b5d1-861b2df6367d"
      },
      "execution_count": null,
      "outputs": [
        {
          "output_type": "stream",
          "name": "stderr",
          "text": [
            "/usr/local/lib/python3.8/dist-packages/seaborn/_decorators.py:36: FutureWarning: Pass the following variable as a keyword arg: x. From version 0.12, the only valid positional argument will be `data`, and passing other arguments without an explicit keyword will result in an error or misinterpretation.\n",
            "  warnings.warn(\n"
          ]
        },
        {
          "output_type": "display_data",
          "data": {
            "text/plain": [
              "<Figure size 432x288 with 1 Axes>"
            ],
            "image/png": "[encoded data removed]"
          },
          "metadata": {
            "needs_background": "light"
          }
        }
      ]
    },
    {
      "cell_type": "code",
      "source": [
        "X = milk.drop('Grade',axis = 1) # Input data\n",
        "print(X)\n",
        "Y = milk['Grade']\n",
        "print(Y)"
      ],
      "metadata": {
        "id": "GoA-iK1-iR7x",
        "colab": {
          "base_uri": "https://localhost:8080/"
        },
        "outputId": "33d092e6-d0aa-4bdc-cef0-712a4893ce30"
      },
      "execution_count": null,
      "outputs": [
        {
          "output_type": "stream",
          "name": "stdout",
          "text": [
            "     Temprature  Taste  Odor  Fat   Turbidity  Colour\n",
            "pH                                                   \n",
            "6.6          35      1     0     1          0     254\n",
            "6.6          36      0     1     0          1     253\n",
            "8.5          70      1     1     1          1     246\n",
            "9.5          34      1     1     0          1     255\n",
            "6.6          37      0     0     0          0     255\n",
            "..          ...    ...   ...   ...        ...     ...\n",
            "6.7          45      1     1     0          0     247\n",
            "6.7          38      1     0     1          0     255\n",
            "3.0          40      1     1     1          1     255\n",
            "6.8          43      1     0     1          0     250\n",
            "8.6          55      0     1     1          1     255\n",
            "\n",
            "[1059 rows x 6 columns]\n",
            "pH\n",
            "6.6    2\n",
            "6.6    2\n",
            "8.5    0\n",
            "9.5    0\n",
            "6.6    1\n",
            "      ..\n",
            "6.7    1\n",
            "6.7    2\n",
            "3.0    0\n",
            "6.8    2\n",
            "8.6    0\n",
            "Name: Grade, Length: 1059, dtype: int64\n"
          ]
        }
      ]
    },
    {
      "cell_type": "code",
      "source": [
        "from sklearn.model_selection import train_test_split\n",
        "X_train,X_test,Y_train,Y_test = train_test_split(X,Y,test_size = 0.25,random_state=0)\n",
        "print(\"trainSet X : \",X_train.shape)\n",
        "print(\"testSet X : \",X_test.shape)\n",
        "print(\"trainSet Y : \",Y_train.shape)\n",
        "print(\"testSet Y : \",Y_test.shape)"
      ],
      "metadata": {
        "id": "58KI551BiV5r",
        "colab": {
          "base_uri": "https://localhost:8080/"
        },
        "outputId": "3ce54712-3716-4a71-e2c5-5069024a28a9"
      },
      "execution_count": null,
      "outputs": [
        {
          "output_type": "stream",
          "name": "stdout",
          "text": [
            "trainSet X :  (794, 6)\n",
            "testSet X :  (265, 6)\n",
            "trainSet Y :  (794,)\n",
            "testSet Y :  (265,)\n"
          ]
        }
      ]
    },
    {
      "cell_type": "markdown",
      "source": [
        "# KNN"
      ],
      "metadata": {
        "id": "fG6Oa3w20bNc"
      }
    },
    {
      "cell_type": "code",
      "source": [
        "from sklearn.model_selection import cross_val_score\n",
        "from sklearn.neighbors import KNeighborsClassifier\n",
        "Acc_Knn=cross_val_score(KNeighborsClassifier(),X,Y,cv=4,scoring='accuracy')\n",
        "print(Acc_Knn)\n",
        "from statistics import mean\n",
        "moy=mean(Acc_Knn)\n",
        "print(moy)"
      ],
      "metadata": {
        "id": "eMPCB7S1yKnS",
        "colab": {
          "base_uri": "https://localhost:8080/"
        },
        "outputId": "7f3b742b-4ab0-4680-9281-b98d4942fdfe"
      },
      "execution_count": null,
      "outputs": [
        {
          "output_type": "stream",
          "name": "stdout",
          "text": [
            "[0.90943396 0.89056604 0.88679245 0.86363636]\n",
            "0.8876072041166381\n"
          ]
        }
      ]
    },
    {
      "cell_type": "code",
      "source": [
        "# valeur possible \n",
        "from sklearn.model_selection import GridSearchCV\n",
        "import numpy as np\n",
        "Param_Grid={'n_neighbors':np.arange(1,100),'metric':['minkowski','manhattan']}\n",
        "grid=GridSearchCV(KNeighborsClassifier(),Param_Grid,cv=4)\n",
        "grid.fit(X,Y)\n",
        "print(grid.best_score_)\n",
        "print(grid.best_params_)"
      ],
      "metadata": {
        "id": "_QFJ0MjAyNgE",
        "colab": {
          "base_uri": "https://localhost:8080/"
        },
        "outputId": "bf5494c3-83f6-4ebc-d2d7-7e4f56905b56"
      },
      "execution_count": null,
      "outputs": [
        {
          "output_type": "stream",
          "name": "stdout",
          "text": [
            "0.8998856489422528\n",
            "{'metric': 'minkowski', 'n_neighbors': 7}\n"
          ]
        }
      ]
    },
    {
      "cell_type": "code",
      "source": [
        "y_pred = grid.predict(X_test)\n",
        "cm = sklearn.metrics.confusion_matrix(Y_test, y_pred)\n",
        "\n",
        "ax = sns.heatmap(cm,annot=True,fmt=\"\",cmap='Blues',linewidths=0.30)\n",
        "ax.set_xlabel(\"Predicted Values\")\n",
        "ax.set_ylabel(\"Actual Values\")\n",
        "ax.set_xticklabels([\"High\",\"Low\",\"Medium\"])\n",
        "ax.set_yticklabels([\"High\",\"Low\",\"Medium\"], rotation = 90, va = \"center\")\n",
        "plt.title(\"KNeighborsClassifier\")\n",
        "plt.show()\n",
        "\n",
        "print(sklearn.metrics.classification_report(Y_test,y_pred, zero_division=1))"
      ],
      "metadata": {
        "id": "NN258IwPvi4l",
        "colab": {
          "base_uri": "https://localhost:8080/",
          "height": 477
        },
        "outputId": "8a8d0778-6f7e-4c02-f986-d47d251b9197"
      },
      "execution_count": null,
      "outputs": [
        {
          "output_type": "display_data",
          "data": {
            "text/plain": [
              "<Figure size 432x288 with 2 Axes>"
            ],
            "image/png": "[encoded data removed]"
          },
          "metadata": {
            "needs_background": "light"
          }
        },
        {
          "output_type": "stream",
          "name": "stdout",
          "text": [
            "              precision    recall  f1-score   support\n",
            "\n",
            "           0       0.87      0.93      0.90        91\n",
            "           1       0.96      0.92      0.94        93\n",
            "           2       0.86      0.81      0.84        81\n",
            "\n",
            "    accuracy                           0.89       265\n",
            "   macro avg       0.89      0.89      0.89       265\n",
            "weighted avg       0.90      0.89      0.89       265\n",
            "\n"
          ]
        }
      ]
    },
    {
      "cell_type": "markdown",
      "source": [
        "# DT"
      ],
      "metadata": {
        "id": "E0sf7a5K1KaK"
      }
    },
    {
      "cell_type": "code",
      "source": [
        "from sklearn.tree import DecisionTreeClassifier\n",
        "model = DecisionTreeClassifier(max_depth=6)\n",
        "model.fit(X_train,Y_train)"
      ],
      "metadata": {
        "id": "cjncGv3U234x",
        "colab": {
          "base_uri": "https://localhost:8080/"
        },
        "outputId": "9bfda924-13f9-4f54-ae06-5085a42d1339"
      },
      "execution_count": null,
      "outputs": [
        {
          "output_type": "execute_result",
          "data": {
            "text/plain": [
              "DecisionTreeClassifier()"
            ]
          },
          "metadata": {},
          "execution_count": 42
        }
      ]
    },
    {
      "cell_type": "code",
      "source": [
        "from sklearn.model_selection import GridSearchCV \n",
        "from sklearn import tree\n",
        "import numpy as np\n",
        "param_grid = { 'criterion':['gini','entropy']}\n",
        "dtree_model=DecisionTreeClassifier()\n",
        "dtree_gscv = GridSearchCV(dtree_model, param_grid, cv=4)\n",
        "dtree_gscv.fit(X,Y)\n",
        "print(dtree_gscv.best_score_)\n",
        "print(dtree_gscv.best_params_)"
      ],
      "metadata": {
        "id": "6JEobhY11M3o",
        "colab": {
          "base_uri": "https://localhost:8080/"
        },
        "outputId": "109f84c6-c3ba-4cb7-ca5d-9dddff017493"
      },
      "execution_count": null,
      "outputs": [
        {
          "output_type": "stream",
          "name": "stdout",
          "text": [
            "0.9065072898799313\n",
            "{'criterion': 'gini'}\n"
          ]
        }
      ]
    },
    {
      "cell_type": "code",
      "source": [
        "from sklearn.metrics import confusion_matrix\n",
        "import seaborn as sns\n",
        "print('Train score : ',model.score(X_train,Y_train))\n",
        "CM_train=confusion_matrix(Y_train,model.predict(X_train))\n",
        "\n",
        "ax = sns.heatmap(CM_train,annot=True,fmt=\"\",cmap='Blues',linewidths=0.30)\n",
        "ax.set_xlabel(\"Predicted Values\")\n",
        "ax.set_ylabel(\"Actual Values\")\n",
        "ax.set_xticklabels([\"High\",\"Low\",\"Medium\"])\n",
        "ax.set_yticklabels([\"High\",\"Low\",\"Medium\"], rotation = 90, va = \"center\")\n",
        "plt.title(\"Decision Tree\")\n",
        "plt.show()"
      ],
      "metadata": {
        "id": "ygaYcAN91bnY",
        "colab": {
          "base_uri": "https://localhost:8080/",
          "height": 313
        },
        "outputId": "2e5ee570-3162-49e8-dcbe-595377afd240"
      },
      "execution_count": null,
      "outputs": [
        {
          "output_type": "stream",
          "name": "stdout",
          "text": [
            "Train score :  0.9231738035264484\n"
          ]
        },
        {
          "output_type": "display_data",
          "data": {
            "text/plain": [
              "<Figure size 432x288 with 2 Axes>"
            ],
            "image/png": "[encoded data removed]"
          },
          "metadata": {
            "needs_background": "light"
          }
        }
      ]
    },
    {
      "cell_type": "code",
      "source": [
        "print('Test score : ',model.score(X_test,Y_test))\n",
        "CM_test=confusion_matrix(Y_test,model.predict(X_test))\n",
        "ax = sns.heatmap(CM_test,annot=True,fmt=\"\",cmap='Blues',linewidths=0.30)\n",
        "ax.set_xlabel(\"Predicted Values\")\n",
        "ax.set_ylabel(\"Actual Values\")\n",
        "ax.set_xticklabels([\"High\",\"Low\",\"Medium\"])\n",
        "ax.set_yticklabels([\"High\",\"Low\",\"Medium\"], rotation = 90, va = \"center\")\n",
        "plt.title(\"Decision Tree\")\n",
        "plt.show()"
      ],
      "metadata": {
        "id": "DRZacio22Ekh",
        "colab": {
          "base_uri": "https://localhost:8080/",
          "height": 313
        },
        "outputId": "56f78418-f665-4125-bdb9-104b62f293e8"
      },
      "execution_count": null,
      "outputs": [
        {
          "output_type": "stream",
          "name": "stdout",
          "text": [
            "Test score :  0.8830188679245283\n"
          ]
        },
        {
          "output_type": "display_data",
          "data": {
            "text/plain": [
              "<Figure size 432x288 with 2 Axes>"
            ],
            "image/png": "[encoded data removed]"
          },
          "metadata": {
            "needs_background": "light"
          }
        }
      ]
    },
    {
      "cell_type": "code",
      "source": [
        "from sklearn import tree\n",
        "model.fit(X_train,Y_train)\n",
        "tree.plot_tree(model)"
      ],
      "metadata": {
        "id": "7qTubutQ6OQt",
        "colab": {
          "base_uri": "https://localhost:8080/",
          "height": 1000
        },
        "outputId": "73c45f84-02f9-482b-dee5-e621541dc01e"
      },
      "execution_count": null,
      "outputs": [
        {
          "output_type": "execute_result",
          "data": {
            "text/plain": [
              "[Text(0.49744897959183676, 0.9444444444444444, 'X[0] <= 47.5\\ngini = 0.645\\nsamples = 794\\nvalue = [338, 281, 175]'),\n",
              " Text(0.45663265306122447, 0.8333333333333334, 'X[4] <= 0.5\\ngini = 0.647\\nsamples = 629\\nvalue = [173, 281, 175]'),\n",
              " Text(0.22448979591836735, 0.7222222222222222, 'X[3] <= 0.5\\ngini = 0.45\\nsamples = 349\\nvalue = [32, 247, 70]'),\n",
              " Text(0.08163265306122448, 0.6111111111111112, 'X[0] <= 39.0\\ngini = 0.179\\nsamples = 161\\nvalue = [16, 145, 0]'),\n",
              " Text(0.04081632653061224, 0.5, 'gini = 0.0\\nsamples = 98\\nvalue = [0, 98, 0]'),\n",
              " Text(0.12244897959183673, 0.5, 'X[0] <= 40.5\\ngini = 0.379\\nsamples = 63\\nvalue = [16, 47, 0]'),\n",
              " Text(0.08163265306122448, 0.3888888888888889, 'X[5] <= 252.5\\ngini = 0.423\\nsamples = 23\\nvalue = [16, 7, 0]'),\n",
              " Text(0.04081632653061224, 0.2777777777777778, 'gini = 0.0\\nsamples = 4\\nvalue = [0, 4, 0]'),\n",
              " Text(0.12244897959183673, 0.2777777777777778, 'X[1] <= 0.5\\ngini = 0.266\\nsamples = 19\\nvalue = [16, 3, 0]'),\n",
              " Text(0.08163265306122448, 0.16666666666666666, 'gini = 0.0\\nsamples = 1\\nvalue = [0, 1, 0]'),\n",
              " Text(0.16326530612244897, 0.16666666666666666, 'gini = 0.198\\nsamples = 18\\nvalue = [16, 2, 0]'),\n",
              " Text(0.16326530612244897, 0.3888888888888889, 'gini = 0.0\\nsamples = 40\\nvalue = [0, 40, 0]'),\n",
              " Text(0.3673469387755102, 0.6111111111111112, 'X[2] <= 0.5\\ngini = 0.56\\nsamples = 188\\nvalue = [16, 102, 70]'),\n",
              " Text(0.2857142857142857, 0.5, 'X[1] <= 0.5\\ngini = 0.53\\nsamples = 143\\nvalue = [16, 89, 38]'),\n",
              " Text(0.24489795918367346, 0.3888888888888889, 'gini = 0.0\\nsamples = 42\\nvalue = [0, 42, 0]'),\n",
              " Text(0.32653061224489793, 0.3888888888888889, 'X[5] <= 248.0\\ngini = 0.617\\nsamples = 101\\nvalue = [16, 47, 38]'),\n",
              " Text(0.2857142857142857, 0.2777777777777778, 'gini = 0.0\\nsamples = 32\\nvalue = [0, 32, 0]'),\n",
              " Text(0.3673469387755102, 0.2777777777777778, 'X[0] <= 37.5\\ngini = 0.596\\nsamples = 69\\nvalue = [16, 15, 38]'),\n",
              " Text(0.32653061224489793, 0.16666666666666666, 'gini = 0.0\\nsamples = 12\\nvalue = [0, 0, 12]'),\n",
              " Text(0.40816326530612246, 0.16666666666666666, 'X[0] <= 40.5\\ngini = 0.644\\nsamples = 57\\nvalue = [16, 15, 26]'),\n",
              " Text(0.3673469387755102, 0.05555555555555555, 'gini = 0.651\\nsamples = 55\\nvalue = [16, 15, 24]'),\n",
              " Text(0.4489795918367347, 0.05555555555555555, 'gini = 0.0\\nsamples = 2\\nvalue = [0, 0, 2]'),\n",
              " Text(0.4489795918367347, 0.5, 'X[5] <= 249.0\\ngini = 0.411\\nsamples = 45\\nvalue = [0, 13, 32]'),\n",
              " Text(0.40816326530612246, 0.3888888888888889, 'gini = 0.495\\nsamples = 29\\nvalue = [0, 13, 16]'),\n",
              " Text(0.4897959183673469, 0.3888888888888889, 'gini = 0.0\\nsamples = 16\\nvalue = [0, 0, 16]'),\n",
              " Text(0.6887755102040817, 0.7222222222222222, 'X[3] <= 0.5\\ngini = 0.591\\nsamples = 280\\nvalue = [141, 34, 105]'),\n",
              " Text(0.5714285714285714, 0.6111111111111112, 'X[2] <= 0.5\\ngini = 0.46\\nsamples = 53\\nvalue = [19, 34, 0]'),\n",
              " Text(0.5306122448979592, 0.5, 'gini = 0.0\\nsamples = 34\\nvalue = [0, 34, 0]'),\n",
              " Text(0.6122448979591837, 0.5, 'gini = 0.0\\nsamples = 19\\nvalue = [19, 0, 0]'),\n",
              " Text(0.8061224489795918, 0.6111111111111112, 'X[0] <= 44.0\\ngini = 0.497\\nsamples = 227\\nvalue = [122, 0, 105]'),\n",
              " Text(0.6938775510204082, 0.5, 'X[0] <= 39.0\\ngini = 0.447\\nsamples = 163\\nvalue = [108, 0, 55]'),\n",
              " Text(0.5918367346938775, 0.3888888888888889, 'X[1] <= 0.5\\ngini = 0.401\\nsamples = 54\\nvalue = [15, 0, 39]'),\n",
              " Text(0.5510204081632653, 0.2777777777777778, 'X[0] <= 36.0\\ngini = 0.454\\nsamples = 23\\nvalue = [15, 0, 8]'),\n",
              " Text(0.5102040816326531, 0.16666666666666666, 'gini = 0.0\\nsamples = 7\\nvalue = [0, 0, 7]'),\n",
              " Text(0.5918367346938775, 0.16666666666666666, 'X[0] <= 37.5\\ngini = 0.117\\nsamples = 16\\nvalue = [15, 0, 1]'),\n",
              " Text(0.5510204081632653, 0.05555555555555555, 'gini = 0.0\\nsamples = 1\\nvalue = [1, 0, 0]'),\n",
              " Text(0.6326530612244898, 0.05555555555555555, 'gini = 0.124\\nsamples = 15\\nvalue = [14, 0, 1]'),\n",
              " Text(0.6326530612244898, 0.2777777777777778, 'gini = 0.0\\nsamples = 31\\nvalue = [0, 0, 31]'),\n",
              " Text(0.7959183673469388, 0.3888888888888889, 'X[5] <= 249.0\\ngini = 0.25\\nsamples = 109\\nvalue = [93, 0, 16]'),\n",
              " Text(0.7551020408163265, 0.2777777777777778, 'gini = 0.0\\nsamples = 19\\nvalue = [19, 0, 0]'),\n",
              " Text(0.8367346938775511, 0.2777777777777778, 'X[0] <= 41.0\\ngini = 0.292\\nsamples = 90\\nvalue = [74, 0, 16]'),\n",
              " Text(0.7551020408163265, 0.16666666666666666, 'X[2] <= 0.5\\ngini = 0.265\\nsamples = 51\\nvalue = [43, 0, 8]'),\n",
              " Text(0.7142857142857143, 0.05555555555555555, 'gini = 0.0\\nsamples = 1\\nvalue = [0, 0, 1]'),\n",
              " Text(0.7959183673469388, 0.05555555555555555, 'gini = 0.241\\nsamples = 50\\nvalue = [43, 0, 7]'),\n",
              " Text(0.9183673469387755, 0.16666666666666666, 'X[2] <= 0.5\\ngini = 0.326\\nsamples = 39\\nvalue = [31, 0, 8]'),\n",
              " Text(0.8775510204081632, 0.05555555555555555, 'gini = 0.301\\nsamples = 38\\nvalue = [31, 0, 7]'),\n",
              " Text(0.9591836734693877, 0.05555555555555555, 'gini = 0.0\\nsamples = 1\\nvalue = [0, 0, 1]'),\n",
              " Text(0.9183673469387755, 0.5, 'X[2] <= 0.5\\ngini = 0.342\\nsamples = 64\\nvalue = [14, 0, 50]'),\n",
              " Text(0.8775510204081632, 0.3888888888888889, 'gini = 0.0\\nsamples = 14\\nvalue = [14, 0, 0]'),\n",
              " Text(0.9591836734693877, 0.3888888888888889, 'gini = 0.0\\nsamples = 50\\nvalue = [0, 0, 50]'),\n",
              " Text(0.5382653061224489, 0.8333333333333334, 'gini = 0.0\\nsamples = 165\\nvalue = [165, 0, 0]')]"
            ]
          },
          "metadata": {},
          "execution_count": 47
        },
        {
          "output_type": "display_data",
          "data": {
            "text/plain": [
              "<Figure size 432x288 with 1 Axes>"
            ],
            "image/png": "[encoded data removed]"
          },
          "metadata": {
            "needs_background": "light"
          }
        }
      ]
    },
    {
      "cell_type": "code",
      "source": [
        "print('profondeur = ', model.get_depth())\n",
        "print('nomber des feuille = ',model.get_n_leaves())"
      ],
      "metadata": {
        "id": "mN4JDJ4W6W7r",
        "colab": {
          "base_uri": "https://localhost:8080/"
        },
        "outputId": "3c76bdbf-d1e2-470d-8067-4f0cbaa3dace"
      },
      "execution_count": null,
      "outputs": [
        {
          "output_type": "stream",
          "name": "stdout",
          "text": [
            "profondeur =  8\n",
            "nomber des feuille =  26\n"
          ]
        }
      ]
    },
    {
      "cell_type": "code",
      "source": [
        "from sklearn.tree import export_text\n",
        "r = export_text(model)\n",
        "print(r)"
      ],
      "metadata": {
        "colab": {
          "base_uri": "https://localhost:8080/"
        },
        "id": "tcFtnwME6eWX",
        "outputId": "9e872831-93da-44e8-b2e0-601ce642ec1a"
      },
      "execution_count": null,
      "outputs": [
        {
          "output_type": "stream",
          "name": "stdout",
          "text": [
            "|--- feature_0 <= 47.50\n",
            "|   |--- feature_4 <= 0.50\n",
            "|   |   |--- feature_3 <= 0.50\n",
            "|   |   |   |--- feature_0 <= 39.00\n",
            "|   |   |   |   |--- class: 1\n",
            "|   |   |   |--- feature_0 >  39.00\n",
            "|   |   |   |   |--- feature_0 <= 40.50\n",
            "|   |   |   |   |   |--- feature_5 <= 252.50\n",
            "|   |   |   |   |   |   |--- class: 1\n",
            "|   |   |   |   |   |--- feature_5 >  252.50\n",
            "|   |   |   |   |   |   |--- class: 0\n",
            "|   |   |   |   |--- feature_0 >  40.50\n",
            "|   |   |   |   |   |--- class: 1\n",
            "|   |   |--- feature_3 >  0.50\n",
            "|   |   |   |--- feature_2 <= 0.50\n",
            "|   |   |   |   |--- feature_1 <= 0.50\n",
            "|   |   |   |   |   |--- class: 1\n",
            "|   |   |   |   |--- feature_1 >  0.50\n",
            "|   |   |   |   |   |--- feature_5 <= 248.00\n",
            "|   |   |   |   |   |   |--- class: 1\n",
            "|   |   |   |   |   |--- feature_5 >  248.00\n",
            "|   |   |   |   |   |   |--- class: 2\n",
            "|   |   |   |--- feature_2 >  0.50\n",
            "|   |   |   |   |--- feature_0 <= 43.00\n",
            "|   |   |   |   |   |--- class: 2\n",
            "|   |   |   |   |--- feature_0 >  43.00\n",
            "|   |   |   |   |   |--- class: 2\n",
            "|   |--- feature_4 >  0.50\n",
            "|   |   |--- feature_3 <= 0.50\n",
            "|   |   |   |--- feature_2 <= 0.50\n",
            "|   |   |   |   |--- class: 1\n",
            "|   |   |   |--- feature_2 >  0.50\n",
            "|   |   |   |   |--- class: 0\n",
            "|   |   |--- feature_3 >  0.50\n",
            "|   |   |   |--- feature_0 <= 44.00\n",
            "|   |   |   |   |--- feature_0 <= 39.00\n",
            "|   |   |   |   |   |--- feature_1 <= 0.50\n",
            "|   |   |   |   |   |   |--- class: 0\n",
            "|   |   |   |   |   |--- feature_1 >  0.50\n",
            "|   |   |   |   |   |   |--- class: 2\n",
            "|   |   |   |   |--- feature_0 >  39.00\n",
            "|   |   |   |   |   |--- feature_5 <= 249.00\n",
            "|   |   |   |   |   |   |--- class: 0\n",
            "|   |   |   |   |   |--- feature_5 >  249.00\n",
            "|   |   |   |   |   |   |--- class: 0\n",
            "|   |   |   |--- feature_0 >  44.00\n",
            "|   |   |   |   |--- feature_2 <= 0.50\n",
            "|   |   |   |   |   |--- class: 0\n",
            "|   |   |   |   |--- feature_2 >  0.50\n",
            "|   |   |   |   |   |--- class: 2\n",
            "|--- feature_0 >  47.50\n",
            "|   |--- class: 0\n",
            "\n"
          ]
        }
      ]
    },
    {
      "cell_type": "markdown",
      "source": [
        "# RF"
      ],
      "metadata": {
        "id": "4U1xKkUsF30e"
      }
    },
    {
      "cell_type": "code",
      "source": [
        "from sklearn.ensemble import RandomForestClassifier\n",
        "\n",
        "rf = RandomForestClassifier()\n",
        "rf.fit(X_train,Y_train)\n",
        "y_pred = rf.predict(X_test)\n",
        "cm = sklearn.metrics.confusion_matrix(Y_test, y_pred)\n",
        "\n",
        "ax = sns.heatmap(cm,annot=True,fmt=\"\",cmap='Blues',linewidths=0.30)\n",
        "ax.set_xlabel(\"Predicted Values\")\n",
        "ax.set_ylabel(\"Actual Values\")\n",
        "ax.set_xticklabels([\"High\",\"Low\",\"Medium\"])\n",
        "ax.set_yticklabels([\"High\",\"Low\",\"Medium\"], rotation = 90, va = \"center\")\n",
        "plt.title(\"Random Forest\")\n",
        "plt.show()\n",
        "\n",
        "print(sklearn.metrics.classification_report(Y_test, y_pred))\n"
      ],
      "metadata": {
        "id": "_foDxeLOF9lr",
        "colab": {
          "base_uri": "https://localhost:8080/",
          "height": 477
        },
        "outputId": "6cc4c5c8-91c2-4da0-f12f-7c1e5be94cde"
      },
      "execution_count": null,
      "outputs": [
        {
          "output_type": "display_data",
          "data": {
            "text/plain": [
              "<Figure size 432x288 with 2 Axes>"
            ],
            "image/png": "[encoded data removed]"
          },
          "metadata": {
            "needs_background": "light"
          }
        },
        {
          "output_type": "stream",
          "name": "stdout",
          "text": [
            "              precision    recall  f1-score   support\n",
            "\n",
            "           0       0.86      0.95      0.90        91\n",
            "           1       0.99      0.86      0.92        93\n",
            "           2       0.80      0.83      0.81        81\n",
            "\n",
            "    accuracy                           0.88       265\n",
            "   macro avg       0.88      0.88      0.88       265\n",
            "weighted avg       0.89      0.88      0.88       265\n",
            "\n"
          ]
        }
      ]
    }
  ]
}